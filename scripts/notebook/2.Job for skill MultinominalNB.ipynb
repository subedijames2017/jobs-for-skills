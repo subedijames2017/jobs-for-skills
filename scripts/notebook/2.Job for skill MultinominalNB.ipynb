{
 "cells": [
  {
   "cell_type": "code",
   "execution_count": 1,
   "metadata": {},
   "outputs": [],
   "source": [
    "path = 'D:/25_cleaned_job_descriptions.csv'"
   ]
  },
  {
   "cell_type": "code",
   "execution_count": 2,
   "metadata": {},
   "outputs": [],
   "source": [
    "import pandas as pd\n",
    "import numpy as np"
   ]
  },
  {
   "cell_type": "code",
   "execution_count": 3,
   "metadata": {},
   "outputs": [],
   "source": [
    "df = pd.read_csv(path,usecols=['Query','Description'])"
   ]
  },
  {
   "cell_type": "code",
   "execution_count": 4,
   "metadata": {},
   "outputs": [
    {
     "data": {
      "text/html": [
       "<div>\n",
       "<style scoped>\n",
       "    .dataframe tbody tr th:only-of-type {\n",
       "        vertical-align: middle;\n",
       "    }\n",
       "\n",
       "    .dataframe tbody tr th {\n",
       "        vertical-align: top;\n",
       "    }\n",
       "\n",
       "    .dataframe thead th {\n",
       "        text-align: right;\n",
       "    }\n",
       "</style>\n",
       "<table border=\"1\" class=\"dataframe\">\n",
       "  <thead>\n",
       "    <tr style=\"text-align: right;\">\n",
       "      <th></th>\n",
       "      <th>Query</th>\n",
       "      <th>Description</th>\n",
       "    </tr>\n",
       "  </thead>\n",
       "  <tbody>\n",
       "    <tr>\n",
       "      <td>0</td>\n",
       "      <td>Data Scientist</td>\n",
       "      <td>job description junior data scientist ibm work...</td>\n",
       "    </tr>\n",
       "    <tr>\n",
       "      <td>1</td>\n",
       "      <td>Data Scientist</td>\n",
       "      <td>overall summary data scientist data science so...</td>\n",
       "    </tr>\n",
       "    <tr>\n",
       "      <td>2</td>\n",
       "      <td>Data Scientist</td>\n",
       "      <td>team data science team newly formed applied re...</td>\n",
       "    </tr>\n",
       "    <tr>\n",
       "      <td>3</td>\n",
       "      <td>Data Scientist</td>\n",
       "      <td>need junior data scientist ny area remote succ...</td>\n",
       "    </tr>\n",
       "    <tr>\n",
       "      <td>4</td>\n",
       "      <td>Data Scientist</td>\n",
       "      <td>want help guide core business spotify using in...</td>\n",
       "    </tr>\n",
       "  </tbody>\n",
       "</table>\n",
       "</div>"
      ],
      "text/plain": [
       "            Query                                        Description\n",
       "0  Data Scientist  job description junior data scientist ibm work...\n",
       "1  Data Scientist  overall summary data scientist data science so...\n",
       "2  Data Scientist  team data science team newly formed applied re...\n",
       "3  Data Scientist  need junior data scientist ny area remote succ...\n",
       "4  Data Scientist  want help guide core business spotify using in..."
      ]
     },
     "execution_count": 4,
     "metadata": {},
     "output_type": "execute_result"
    }
   ],
   "source": [
    "df.head()"
   ]
  },
  {
   "cell_type": "code",
   "execution_count": 5,
   "metadata": {},
   "outputs": [
    {
     "data": {
      "text/plain": [
       "['Data Scientist',\n",
       " 'Data Analyst',\n",
       " 'Data Architect',\n",
       " 'Data Engineer',\n",
       " 'Statistics',\n",
       " 'Database Administrator',\n",
       " 'Business Analyst',\n",
       " 'Data and Analytics Manager',\n",
       " 'Machine Learning',\n",
       " 'Artificial Intelligence',\n",
       " 'Deep Learning',\n",
       " 'Business Intelligence Analyst',\n",
       " 'Data Visualization Expert',\n",
       " 'Data Quality Manager',\n",
       " 'Big Data Engineer',\n",
       " 'Data Warehousing',\n",
       " 'Technology Integration',\n",
       " 'IT Consultant',\n",
       " 'IT Systems Administrator',\n",
       " 'Cloud Architect',\n",
       " 'Technical Operations',\n",
       " 'Cloud Services Developer',\n",
       " 'Full Stack Developer',\n",
       " 'Information Security Analyst',\n",
       " 'Network Architect']"
      ]
     },
     "execution_count": 5,
     "metadata": {},
     "output_type": "execute_result"
    }
   ],
   "source": [
    "list(df.Query.unique())"
   ]
  },
  {
   "cell_type": "code",
   "execution_count": 6,
   "metadata": {},
   "outputs": [
    {
     "data": {
      "text/plain": [
       "Cloud Architect                  540\n",
       "Network Architect                511\n",
       "Data Scientist                   400\n",
       "Database Administrator           400\n",
       "Full Stack Developer             400\n",
       "Technology Integration           399\n",
       "Data and Analytics Manager       399\n",
       "IT Systems Administrator         399\n",
       "Data Architect                   399\n",
       "IT Consultant                    398\n",
       "Data Analyst                     397\n",
       "Business Analyst                 396\n",
       "Cloud Services Developer         395\n",
       "Information Security Analyst     395\n",
       "Data Quality Manager             394\n",
       "Technical Operations             394\n",
       "Machine Learning                 392\n",
       "Statistics                       390\n",
       "Data Engineer                    385\n",
       "Data Warehousing                 385\n",
       "Artificial Intelligence          382\n",
       "Deep Learning                    381\n",
       "Data Visualization Expert        377\n",
       "Business Intelligence Analyst    372\n",
       "Big Data Engineer                320\n",
       "Name: Query, dtype: int64"
      ]
     },
     "execution_count": 6,
     "metadata": {},
     "output_type": "execute_result"
    }
   ],
   "source": [
    "df.Query.value_counts()"
   ]
  },
  {
   "cell_type": "code",
   "execution_count": 7,
   "metadata": {},
   "outputs": [],
   "source": [
    "# from sklearn.pipeline import make_pipeline\n",
    "# from sklearn.feature_extraction.text import CountVectorizer\n",
    "# from sklearn.feature_extraction.text import TfidfVectorizer\n",
    "# from sklearn.naive_bayes import MultinomialNB"
   ]
  },
  {
   "cell_type": "code",
   "execution_count": 17,
   "metadata": {},
   "outputs": [],
   "source": [
    "from sklearn.model_selection import train_test_split\n",
    "X_train, X_test, y_train, y_test = train_test_split(df.Description, df.Query, test_size=0.2, random_state=42)"
   ]
  },
  {
   "cell_type": "code",
   "execution_count": 9,
   "metadata": {},
   "outputs": [],
   "source": [
    "# pipe = make_pipeline(TfidfVectorizer(), MultinomialNB())\n",
    "# pipe.fit(X_train, y_train)\n",
    "# y_pred = pipe.predict(X_test)"
   ]
  },
  {
   "cell_type": "code",
   "execution_count": 20,
   "metadata": {},
   "outputs": [],
   "source": [
    "from sklearn.metrics import accuracy_score, precision_recall_fscore_support"
   ]
  },
  {
   "cell_type": "code",
   "execution_count": 21,
   "metadata": {},
   "outputs": [],
   "source": [
    "# accuracy = accuracy_score(y_test, y_pred)"
   ]
  },
  {
   "cell_type": "code",
   "execution_count": 22,
   "metadata": {},
   "outputs": [],
   "source": [
    "# accuracy"
   ]
  },
  {
   "cell_type": "code",
   "execution_count": null,
   "metadata": {},
   "outputs": [],
   "source": []
  },
  {
   "cell_type": "code",
   "execution_count": null,
   "metadata": {},
   "outputs": [],
   "source": []
  },
  {
   "cell_type": "code",
   "execution_count": null,
   "metadata": {},
   "outputs": [],
   "source": []
  },
  {
   "cell_type": "code",
   "execution_count": null,
   "metadata": {},
   "outputs": [],
   "source": []
  },
  {
   "cell_type": "code",
   "execution_count": null,
   "metadata": {},
   "outputs": [],
   "source": []
  },
  {
   "cell_type": "code",
   "execution_count": null,
   "metadata": {},
   "outputs": [],
   "source": []
  },
  {
   "cell_type": "code",
   "execution_count": 18,
   "metadata": {},
   "outputs": [],
   "source": [
    "from sklearn.pipeline import Pipeline\n",
    "from sklearn.feature_extraction.text import CountVectorizer\n",
    "from sklearn.feature_extraction.text import TfidfTransformer\n",
    "from sklearn.naive_bayes import MultinomialNB"
   ]
  },
  {
   "cell_type": "code",
   "execution_count": 23,
   "metadata": {},
   "outputs": [
    {
     "name": "stdout",
     "output_type": "stream",
     "text": [
      "accuracy 0.393\n",
      "                               precision    recall  f1-score   support\n",
      "\n",
      "      Artificial Intelligence       0.79      0.25      0.38        60\n",
      "            Big Data Engineer       1.00      0.03      0.06        67\n",
      "             Business Analyst       0.33      0.39      0.36        69\n",
      "Business Intelligence Analyst       0.48      0.32      0.39        77\n",
      "              Cloud Architect       0.19      0.88      0.32       127\n",
      "     Cloud Services Developer       0.70      0.25      0.37        76\n",
      "                 Data Analyst       0.40      0.04      0.08        89\n",
      "               Data Architect       0.38      0.17      0.23        78\n",
      "                Data Engineer       0.50      0.05      0.09        79\n",
      "         Data Quality Manager       0.47      0.63      0.54        70\n",
      "               Data Scientist       0.49      0.67      0.57        86\n",
      "    Data Visualization Expert       0.29      0.19      0.23        81\n",
      "             Data Warehousing       0.68      0.46      0.55        74\n",
      "   Data and Analytics Manager       0.49      0.42      0.46        99\n",
      "       Database Administrator       0.66      0.34      0.45        79\n",
      "                Deep Learning       0.77      0.39      0.52        69\n",
      "         Full Stack Developer       0.79      0.67      0.72        87\n",
      "                IT Consultant       0.93      0.34      0.50        82\n",
      "     IT Systems Administrator       0.60      0.72      0.66        65\n",
      " Information Security Analyst       0.78      0.63      0.69        67\n",
      "             Machine Learning       0.57      0.37      0.45        79\n",
      "            Network Architect       0.19      0.66      0.30        89\n",
      "                   Statistics       0.43      0.47      0.45        77\n",
      "         Technical Operations       0.56      0.17      0.26        88\n",
      "       Technology Integration       0.80      0.05      0.09        86\n",
      "\n",
      "                     accuracy                           0.39      2000\n",
      "                    macro avg       0.57      0.38      0.39      2000\n",
      "                 weighted avg       0.56      0.39      0.38      2000\n",
      "\n"
     ]
    }
   ],
   "source": [
    "nb = Pipeline([('vect', CountVectorizer()),\n",
    "               ('tfidf', TfidfTransformer()),\n",
    "               ('clf', MultinomialNB()),\n",
    "              ])\n",
    "nb.fit(X_train, y_train)\n",
    "\n",
    "\n",
    "from sklearn.metrics import classification_report\n",
    "y_pred = nb.predict(X_test)\n",
    "\n",
    "print('accuracy %s' % accuracy_score(y_pred, y_test))\n",
    "print(classification_report(y_test, y_pred))"
   ]
  },
  {
   "cell_type": "code",
   "execution_count": 24,
   "metadata": {},
   "outputs": [],
   "source": [
    "e1 = \"\"\"Advanced degree in computer science, math, statistics or a related discipline\n",
    "Extensive data modeling and data architecture skills\n",
    "Programming experience in Python\n",
    "Experience in machine learning frameworks in python such as TensorFlow or Keras\n",
    "Strong knowledge about machine learning and deep learning algorithms such as k-Nearest, LSTM or CNN\n",
    "Strong written and verbal communications in English\"\"\""
   ]
  },
  {
   "cell_type": "code",
   "execution_count": 25,
   "metadata": {},
   "outputs": [],
   "source": [
    "e2 = \"\"\"Problem solving skills with an emphasis on product development. \n",
    "Focus on quality and ensuring the responsiveness of applications. \n",
    "Expertise in back-end programming languages (node.js, PHP and Python). \n",
    "Expertise in front-end technologies; JavaScript, React/Redux, and JQuery), HTML, CSS, etc. \n",
    "Proficient and demonstrable experience with databases such as MySQL, MongoDB, etc.\n",
    "A professional and personal need for code integrity and organization. Experience working with graphic \n",
    "designers and converting designs to visual elements. Understanding and implementation of security and \n",
    "data protection strategies. Understanding of code versioning tools such as Git. \n",
    "Understanding and strong interest in DevOps. Experience in designing and developing APIs.\n",
    "A desire to stay abreast of developments in web applications and programming languages. \n",
    "Excellent written and verbal communication skills for coordinating across teams. \n",
    "A drive to learn and master new technologies and techniques. \"\"\""
   ]
  },
  {
   "cell_type": "code",
   "execution_count": 26,
   "metadata": {},
   "outputs": [],
   "source": [
    "import pickle"
   ]
  },
  {
   "cell_type": "code",
   "execution_count": 27,
   "metadata": {},
   "outputs": [],
   "source": [
    "filename = 'D:/jobforskill/jobs-for-skills/scripts/multinominalnb.sav'\n",
    "pickle.dump(nb, open(filename, 'wb'))\n",
    "# some time later..."
   ]
  },
  {
   "cell_type": "code",
   "execution_count": null,
   "metadata": {},
   "outputs": [],
   "source": []
  },
  {
   "cell_type": "code",
   "execution_count": 28,
   "metadata": {},
   "outputs": [],
   "source": [
    "# load the model from disk\n",
    "loaded_model = pickle.load(open(filename, 'rb'))"
   ]
  },
  {
   "cell_type": "code",
   "execution_count": null,
   "metadata": {},
   "outputs": [],
   "source": []
  },
  {
   "cell_type": "code",
   "execution_count": 29,
   "metadata": {},
   "outputs": [
    {
     "data": {
      "text/plain": [
       "array(['Machine Learning'], dtype='<U29')"
      ]
     },
     "execution_count": 29,
     "metadata": {},
     "output_type": "execute_result"
    }
   ],
   "source": [
    "loaded_model.predict([e1])"
   ]
  },
  {
   "cell_type": "code",
   "execution_count": null,
   "metadata": {},
   "outputs": [],
   "source": []
  },
  {
   "cell_type": "code",
   "execution_count": null,
   "metadata": {},
   "outputs": [],
   "source": []
  },
  {
   "cell_type": "code",
   "execution_count": null,
   "metadata": {},
   "outputs": [],
   "source": []
  },
  {
   "cell_type": "code",
   "execution_count": null,
   "metadata": {},
   "outputs": [],
   "source": []
  },
  {
   "cell_type": "code",
   "execution_count": null,
   "metadata": {},
   "outputs": [],
   "source": []
  },
  {
   "cell_type": "code",
   "execution_count": null,
   "metadata": {},
   "outputs": [],
   "source": []
  },
  {
   "cell_type": "code",
   "execution_count": null,
   "metadata": {},
   "outputs": [],
   "source": []
  },
  {
   "cell_type": "code",
   "execution_count": null,
   "metadata": {},
   "outputs": [],
   "source": [
    "# count_vect = CountVectorizer()\n",
    "# X_train_counts = count_vect.fit_transform(X_train)\n",
    "# X_train_counts.shape"
   ]
  },
  {
   "cell_type": "code",
   "execution_count": null,
   "metadata": {},
   "outputs": [],
   "source": [
    "# from sklearn.feature_extraction.text import TfidfTransformer\n",
    "# tf_transformer = TfidfTransformer(use_idf=False).fit(X_train_counts)\n",
    "# X_train_tf = tf_transformer.transform(X_train_counts)\n",
    "# X_train_tf.shape"
   ]
  },
  {
   "cell_type": "code",
   "execution_count": null,
   "metadata": {},
   "outputs": [],
   "source": [
    "# tfidf_transformer = TfidfTransformer()\n",
    "# X_train_tfidf = tfidf_transformer.fit_transform(X_train_counts)"
   ]
  },
  {
   "cell_type": "code",
   "execution_count": null,
   "metadata": {},
   "outputs": [],
   "source": [
    "# from sklearn.naive_bayes import MultinomialNB\n",
    "# clf = MultinomialNB().fit(X_train_tfidf, y_train)"
   ]
  },
  {
   "cell_type": "code",
   "execution_count": null,
   "metadata": {},
   "outputs": [],
   "source": [
    "# X_new_counts = count_vect.transform(X_test)\n",
    "# X_new_tfidf = tfidf_transformer.transform(X_new_counts)\n",
    "# y_pred = clf.predict(X_new_tfidf)"
   ]
  },
  {
   "cell_type": "code",
   "execution_count": null,
   "metadata": {},
   "outputs": [],
   "source": [
    "# import pickle"
   ]
  },
  {
   "cell_type": "code",
   "execution_count": null,
   "metadata": {},
   "outputs": [],
   "source": [
    "# pickled_model  = pickle.dump(clf, open('MultinominalNB.pkl', 'wb'))"
   ]
  },
  {
   "cell_type": "code",
   "execution_count": null,
   "metadata": {},
   "outputs": [],
   "source": [
    "# clfs = pickle.load(open( \"MultinominalNB.pkl\", \"rb\" ) )"
   ]
  },
  {
   "cell_type": "code",
   "execution_count": null,
   "metadata": {},
   "outputs": [],
   "source": [
    "# y_pred"
   ]
  },
  {
   "cell_type": "code",
   "execution_count": null,
   "metadata": {},
   "outputs": [],
   "source": [
    "# print('accuracy %s' % accuracy_score(y_pred, y_test))"
   ]
  },
  {
   "cell_type": "code",
   "execution_count": null,
   "metadata": {},
   "outputs": [],
   "source": [
    "# duita algorithm le kasari kam garchha detail ma garne. Library use nagarne\n",
    "# how vallues are calculated\n",
    "# how algiorthms work\n",
    "\n",
    "# UI spelling error / silly error\n",
    "# presentation ma dekhaune # slide code nadekhaune\n",
    "# "
   ]
  },
  {
   "cell_type": "code",
   "execution_count": null,
   "metadata": {},
   "outputs": [],
   "source": [
    "# e1 = \"\"\"Advanced degree in computer science, math, statistics or a related discipline\n",
    "# Extensive data modeling and data architecture skills\n",
    "# Programming experience in Python\n",
    "# Experience in machine learning frameworks in python such as TensorFlow or Keras\n",
    "# Strong knowledge about machine learning and deep learning algorithms such as k-Nearest, LSTM or CNN\n",
    "# Strong written and verbal communications in English\"\"\""
   ]
  },
  {
   "cell_type": "code",
   "execution_count": null,
   "metadata": {},
   "outputs": [],
   "source": [
    "# e2 = \"\"\"Problem solving skills with an emphasis on product development. \n",
    "# Focus on quality and ensuring the responsiveness of applications. \n",
    "# Expertise in back-end programming languages (node.js, PHP and Python). \n",
    "# Expertise in front-end technologies; JavaScript, React/Redux, and JQuery), HTML, CSS, etc. \n",
    "# Proficient and demonstrable experience with databases such as MySQL, MongoDB, etc.\n",
    "# A professional and personal need for code integrity and organization. Experience working with graphic \n",
    "# designers and converting designs to visual elements. Understanding and implementation of security and \n",
    "# data protection strategies. Understanding of code versioning tools such as Git. \n",
    "# Understanding and strong interest in DevOps. Experience in designing and developing APIs.\n",
    "# A desire to stay abreast of developments in web applications and programming languages. \n",
    "# Excellent written and verbal communication skills for coordinating across teams. \n",
    "# A drive to learn and master new technologies and techniques. \"\"\""
   ]
  },
  {
   "cell_type": "code",
   "execution_count": null,
   "metadata": {},
   "outputs": [],
   "source": [
    "# docs_new = [e1,e2]\n",
    "# X_new_counts = count_vect.transform(docs_new)\n",
    "# X_new_tfidf = tfidf_transformer.transform(X_new_counts)\n",
    "\n",
    "# predicted = clfs.predict(X_new_tfidf)"
   ]
  },
  {
   "cell_type": "code",
   "execution_count": null,
   "metadata": {},
   "outputs": [],
   "source": [
    "# list(predicted)"
   ]
  },
  {
   "cell_type": "code",
   "execution_count": null,
   "metadata": {},
   "outputs": [],
   "source": [
    "# from sklearn.metrics import classification_report"
   ]
  },
  {
   "cell_type": "code",
   "execution_count": null,
   "metadata": {},
   "outputs": [],
   "source": [
    "# from sklearn.metrics import confusion_matrix"
   ]
  },
  {
   "cell_type": "code",
   "execution_count": null,
   "metadata": {},
   "outputs": [],
   "source": []
  },
  {
   "cell_type": "code",
   "execution_count": null,
   "metadata": {},
   "outputs": [],
   "source": []
  },
  {
   "cell_type": "code",
   "execution_count": null,
   "metadata": {},
   "outputs": [],
   "source": []
  },
  {
   "cell_type": "code",
   "execution_count": null,
   "metadata": {},
   "outputs": [],
   "source": [
    "# from sklearn.linear_model import SGDClassifier\n",
    "# from sklearn.pipeline import Pipeline\n",
    "# text_clf = Pipeline([\n",
    "#     ('vect', CountVectorizer()),\n",
    "#     ('tfidf', TfidfTransformer()),\n",
    "#     ('clf', SGDClassifier(loss='hinge', penalty='l2',\n",
    "#                           alpha=1e-3, random_state=42,\n",
    "#                           max_iter=5, tol=None)),\n",
    "# ])\n",
    "\n",
    "# text_clf.fit(X_train,y_train)\n",
    "\n",
    "# predicted = text_clf.predict(docs_new)"
   ]
  },
  {
   "cell_type": "code",
   "execution_count": null,
   "metadata": {},
   "outputs": [],
   "source": [
    "# predicted"
   ]
  },
  {
   "cell_type": "code",
   "execution_count": null,
   "metadata": {},
   "outputs": [],
   "source": []
  }
 ],
 "metadata": {
  "kernelspec": {
   "display_name": "Python 3",
   "language": "python",
   "name": "python3"
  },
  "language_info": {
   "codemirror_mode": {
    "name": "ipython",
    "version": 3
   },
   "file_extension": ".py",
   "mimetype": "text/x-python",
   "name": "python",
   "nbconvert_exporter": "python",
   "pygments_lexer": "ipython3",
   "version": "3.7.4"
  }
 },
 "nbformat": 4,
 "nbformat_minor": 2
}
